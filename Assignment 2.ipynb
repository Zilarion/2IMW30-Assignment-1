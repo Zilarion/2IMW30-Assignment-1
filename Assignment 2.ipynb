{
 "cells": [
  {
   "cell_type": "markdown",
   "metadata": {
    "deletable": true,
    "editable": true
   },
   "source": [
    "# Foundations of Data Mining: Assignment 2\n",
    "\n",
    "Please complete all assignments in this notebook. You should submit this notebook, as well as a PDF version (See File > Download as)."
   ]
  },
  {
   "cell_type": "code",
   "execution_count": 1,
   "metadata": {
    "collapsed": false,
    "deletable": true,
    "editable": true
   },
   "outputs": [],
   "source": [
    "%matplotlib inline\n",
    "from preamble import *\n",
    "plt.rcParams['savefig.dpi'] = 100 # This controls the size of your figures\n",
    "# Comment out and restart notebook if you only want the last output of each cell.\n",
    "InteractiveShell.ast_node_interactivity = \"none\" "
   ]
  },
  {
   "cell_type": "code",
   "execution_count": 4,
   "metadata": {
    "collapsed": false,
    "deletable": true,
    "editable": true
   },
   "outputs": [],
   "source": [
    "# We load in our key by placing it in ~/.openml/config"
   ]
  },
  {
   "cell_type": "markdown",
   "metadata": {
    "deletable": true,
    "editable": true
   },
   "source": [
    "## Kernel selection (4 points (1+2+1))\n",
    "SVMs can be trained with different kernels. Generate a 2-dimensional dataset as shown below and study the effect of the choice of kernel by visualizing the results.\n",
    "\n",
    "- Train a SVM classifier on the dataset using respectively a linear, polynomial and radial basis function (RBF) kernel, evaluate the performance of each kernel using 10-fold cross-validation and AUC. Which one works best? Visualize the results. Can you intuitively explain why one kernel is more suited than another?\n",
    "    - Hint: you can use the visualization code used in class. It is under mglearn/plot_svm.py > plot_svm_kernels().\n",
    "- Take the RBF kernel and vary both the C parameter and the kernel width ($\\gamma$). Use 3 values for each (a very small, default, and very large value). For each of the 9 combinations, create the same RBF plot as before, report the number of support vectors, and the AUC performance. Explain the performance results. When are you over/underfitting?\n",
    "    - Hint: values for C and $\\gamma$ are typically in [$2^{-15}..2^{15}$] on a log scale. \n",
    "    - Hint: don't count the support vectors manually, retrieve them from the trained SVM.\n",
    "- Vary C and $\\gamma$ again, but this time use a grid of at least 20x20, vary both parameters uniformly on a log scale, and visualise the results using a $C \\times \\gamma \\rightarrow AUC$ heatmap. Explain the performance results, and compare them to the 9 results obtained in the previous subquestion. Can you also tell in which regions of the heatmap you are over/underfitting?\n",
    "    - Hint: We've constructed such a heatmap in class and in assignment 1."
   ]
  },
  {
   "cell_type": "code",
   "execution_count": null,
   "metadata": {
    "collapsed": true,
    "deletable": true,
    "editable": true
   },
   "outputs": [],
   "source": [
    "X, y = make_blobs(centers=2, n_samples=1000, random_state=0)"
   ]
  },
  {
   "cell_type": "markdown",
   "metadata": {
    "deletable": true,
    "editable": true
   },
   "source": [
    "## Robots and SVMs (4 points (2+1+1))\n",
    "\n",
    "The [Wall Robot Navigation dataset](http://www.openml.org/d/1497) contains about 5500 readings of an ultrasound sensor array mounted on a robot, and your task is to finetune and train an SVM classifier to predict how the robot should move next.\n",
    "\n",
    "- Make a stratified 80-20 split of the data. On the training set alone, optimize the main hyperparameters of the SVM for Accuracy with a random search. Vary at least the main kernel types (linear, polynomial, and RBF), the C parameter, the $\\gamma$ parameter for the RBF kernel and the exponent/degree for the polynomial kernel. Report the optimal hyperparameter settings and Accuracy performance. \n",
    "    - The degree of the polynonial is typically in the range 2..10.\n",
    "    - Hint: note that the hyperparameter ranges depend on each other. For instance, $\\gamma$ only makes sense if you have selected the RBF kernel as well. We've seen in class how to define multiple hyperparameter spaces in a random/grid search.\n",
    "- Use a 5x3-fold (5 outer, 3 inner) nested cross-validation (CV) on the training set to obtain a clean evaluation. Evaluate your optimized hyperparameter settings on the separate test set and discuss the result. Is the performance on the independent test set comparable with the result of the random search?\n",
    "    - Hint: for the nested resampling, use at least a 10-fold CV for the outer loop. The inner loop can be a 3-fold CV or a simple holdout.\n",
    "- Train an SVM using the optimal hyperparameter configuration you found and test it on the held out (20%) test set. Compare this Accuracy result with the (mean) result of the nested CV. If you would build this robot in practice, how would you find the hyperparameters to use, and which performance would you expect? Is it truly necessary to tune the hyperparameters? Which hyperparameters were most important to tune?"
   ]
  },
  {
   "cell_type": "code",
   "execution_count": 4,
   "metadata": {
    "collapsed": false,
    "deletable": true,
    "editable": true
   },
   "outputs": [],
   "source": [
    "robot_data = oml.datasets.get_dataset(1497) # Download Robot data\n",
    "# Get the predictors X and the labels y\n",
    "X, y = robot_data.get_data(target=robot_data.default_target_attribute); "
   ]
  },
  {
   "cell_type": "markdown",
   "metadata": {
    "deletable": true,
    "editable": true
   },
   "source": [
    "## A benchmark study (3 points (2+1))\n",
    "\n",
    "A benchmark study is an experiment in which multiple algorithms are evaluated on multiple datasets. The end goal is to study whether one algorithm is generally better than the others. Meaningful benchmark studies can grow quite complex, here we do a simplified variant.\n",
    "\n",
    "* Download OpenML datasets 37, 470, 1120, 1464 and 1471. They are sufficiently large (e.g., at least 500 data points) so that the performance estimation is trustworthy. Select at least three classifiers that we discussed in class, e.g. kNN, Logistic Regression, Random Forests, Gradient Boosting, SVMs, Naive Bayes. Note that some of these algorithms take longer to train. Evaluate all classifiers (with default parameter settings) on all datasets, using a 10-fold CV and AUC. Show the results in a table and interpret them. Which is the best algorithm in this benchmark?\n",
    "    * Note that these datasets have categorical features, different scales, missing values, and (likely) irrelevant features. You'll need to build pipelines to correctly build all models. Also remove any row identifiers (see, e.g., https://www.openml.org/d/1120)\n",
    "    * Hint: You can either compare the performances directly, or (better) use a statistical significance test, e.g. a pairwise t-test or (better) Wilcoxon signed ranks test, to see whether the performance differences are significant. This is covered in statistics courses. You can then count wins, ties and losses.\n",
    "* Repeat the benchmark, but now additionally optimize the main hyperparameters of each algorithm in a grid or random search (explore at least 5 values per hyperparameter, where possible). Does this affect the ranking of the algorithms?"
   ]
  },
  {
   "cell_type": "code",
   "execution_count": null,
   "metadata": {
    "collapsed": false,
    "deletable": true,
    "editable": true
   },
   "outputs": [],
   "source": [
    "from sklearn import neighbors\n",
    "from sklearn.linear_model import LogisticRegression\n",
    "from sklearn.ensemble import RandomForestClassifier\n",
    "\n",
    "from sklearn.model_selection import StratifiedKFold\n",
    "from sklearn.model_selection import cross_val_score\n",
    "from sklearn.preprocessing import Imputer, StandardScaler\n",
    "from sklearn.pipeline import Pipeline\n",
    "from sklearn.model_selection import GridSearchCV\n",
    "\n",
    "# Define datasets and base classifiers\n",
    "datasets = [37, 470, 1120, 1464, 1471]\n",
    "\n",
    "# Create kf\n",
    "kf = StratifiedKFold(n_splits=10, random_state=2)\n",
    "\n",
    "# Create imputer to pre-process data\n",
    "imp = Imputer(missing_values='NaN', strategy='mean', axis=0)\n",
    "\n",
    "# Create scaler for the classifiers which need this\n",
    "scaler = StandardScaler()\n",
    "\n",
    "pipelines = [\n",
    "    Pipeline([(\"imputer\",imp), (\"scaler\", scaler), (\"classifier\", neighbors.KNeighborsClassifier())]),\n",
    "    Pipeline([(\"imputer\",imp), (\"scaler\", scaler), (\"classifier\", LogisticRegression())]),\n",
    "    Pipeline([(\"imputer\",imp), (\"classifier\", RandomForestClassifier())])\n",
    "]\n",
    "\n",
    "# Define parameter grids for the classifiers\n",
    "param_grids = [\n",
    "    {'classifier__n_neighbors': [1, 3, 5, 7, 9, 11, 33]}, \n",
    "    {'classifier__C': [0.001, 0.01, 1, 10, 100, 1000] },\n",
    "    {'classifier__max_features': list(range(1,5)), 'classifier__n_estimators': [1, 2, 4, 8, 16, 32, 64]}\n",
    "]\n",
    "\n",
    "# Score dicts\n",
    "dsScores = {}\n",
    "dsGridScores = {}\n",
    "\n",
    "# Process each dataset\n",
    "for dindex in datasets:\n",
    "    # Load data\n",
    "    data_set = oml.datasets.get_dataset(dindex)\n",
    "    X, y = data_set.get_data(target=data_set.default_target_attribute)\n",
    "    \n",
    "    scores = {}\n",
    "    gridScores = {}\n",
    "    # Run each clf using the corresponding parameter grid\n",
    "    for pipe, grid in zip(pipelines, param_grids):\n",
    "        # Run 10-fold pipeline\n",
    "        score = cross_val_score(pipe, X, y, cv=kf, n_jobs=8, scoring=\"roc_auc\").mean()\n",
    "        scores[clf.__class__.__name__] = score;\n",
    "\n",
    "        # Run gridsearch pipeline\n",
    "        gs = GridSearchCV(pipe, grid, cv=kf, n_jobs=8)\n",
    "        gs.fit(X, y)\n",
    "        results = pd.DataFrame(gs.cv_results_)\n",
    "        gridScores[clf.__class__.__name__] = gs.best_score_\n",
    "\n",
    "    dsScores[dindex] = scores\n",
    "    dsGridScores[dindex] = gridScores\n",
    "\n",
    "# Print default classifier scores\n",
    "print(\"Default scores:\")\n",
    "print(pd.DataFrame.from_dict(dsScores))\n",
    "\n",
    "# Print best grid scores\n",
    "print(\"\\nOptimized grid scores:\")\n",
    "print(pd.DataFrame.from_dict(dsGridScores))"
   ]
  },
  {
   "cell_type": "markdown",
   "metadata": {
    "collapsed": true,
    "deletable": true,
    "editable": true
   },
   "source": [
    "## Gaussian Processes (2 points (1+1))\n",
    "\n",
    "Consider the RAM prices dataset (included in the data folder). Separate the data in a training set of all data points up until the year 2000, and a test set with all points after that.\n",
    "\n",
    "- Train several of the algorithms we have covered in the course that can handle regression. Include at least linear regression, decision tree, and RandomForest. Which ones give the best $R^2$ performance on the test set? Plot the predictions (both on the training and test data) on the figure below. Use different colors for different algorithms or build multiple plots.\n",
    "- Train a Gaussian process on an increasing amount of samples of the training data. Start with 5 random sample and plot the predictions (both the mean and the uncertainty interval) for both training and test data, as shown in class. Now add 5 more points and retrain and redraw. Do this a couple of times and interpret/explain what you see. Finally, train the Gaussian on the full dataset and again show plot the predictions. Evaluate on the test set using  $R^2$. Compare these results with those achieved with other algorithms and explain."
   ]
  },
  {
   "cell_type": "code",
   "execution_count": 35,
   "metadata": {
    "collapsed": false,
    "deletable": true,
    "editable": true
   },
   "outputs": [
    {
     "name": "stdout",
     "output_type": "stream",
     "text": [
      "<bound method NDFrame.as_matrix of 0      1957.00\n",
      "1      1959.00\n",
      "2      1960.00\n",
      "3      1965.00\n",
      "4      1970.00\n",
      "5      1973.00\n",
      "6      1974.00\n",
      "7      1975.00\n",
      "8      1975.08\n",
      "9      1975.25\n",
      "10     1975.75\n",
      "11     1976.00\n",
      "12     1976.17\n",
      "13     1976.42\n",
      "14     1976.58\n",
      "15     1977.08\n",
      "16     1978.17\n",
      "17     1978.25\n",
      "18     1978.33\n",
      "19     1978.50\n",
      "20     1978.58\n",
      "21     1978.75\n",
      "22     1979.00\n",
      "23     1979.75\n",
      "24     1980.00\n",
      "25     1981.00\n",
      "26     1981.58\n",
      "27     1982.00\n",
      "28     1982.17\n",
      "29     1982.67\n",
      "        ...   \n",
      "172    1997.25\n",
      "173    1997.33\n",
      "174    1997.42\n",
      "175    1997.50\n",
      "176    1997.58\n",
      "177    1997.67\n",
      "178    1997.75\n",
      "179    1997.83\n",
      "180    1997.92\n",
      "181    1998.00\n",
      "182    1998.08\n",
      "183    1998.17\n",
      "184    1998.25\n",
      "185    1998.33\n",
      "186    1998.42\n",
      "187    1998.58\n",
      "188    1998.67\n",
      "189    1998.75\n",
      "190    1998.83\n",
      "191    1998.92\n",
      "192    1999.08\n",
      "193    1999.13\n",
      "194    1999.17\n",
      "195    1999.25\n",
      "196    1999.33\n",
      "197    1999.50\n",
      "198    1999.67\n",
      "199    1999.75\n",
      "200    1999.83\n",
      "201    1999.92\n",
      "Name: date, dtype: float64>\n"
     ]
    },
    {
     "data": {
      "application/pdf": "[encoded data removed]",
      "image/png": "[encoded data removed]",
      "text/plain": [
       "<matplotlib.figure.Figure at 0x10ae3f940>"
      ]
     },
     "metadata": {},
     "output_type": "display_data"
    }
   ],
   "source": [
    "from sklearn.ensemble import RandomForestRegressor\n",
    "from sklearn.linear_model import LinearRegression\n",
    "from sklearn.tree import DecisionTreeRegressor\n",
    "\n",
    "ram_prices = pd.read_csv('data/ram_price.csv')\n",
    "\n",
    "plt.semilogy(ram_prices.date, ram_prices.price)\n",
    "plt.xlabel(\"Year\")\n",
    "plt.ylabel(\"Price in $/Mbyte\");\n",
    "\n",
    "train = ram_prices.query(\"date < 2000\")\n",
    "test = ram_prices.query(\"date >= 2000\")\n",
    "\n",
    "print (train.date.array)\n",
    "algorithms = [LinearRegression(), RandomForestRegressor(), DecisionTreeRegressor()]\n",
    "\n",
    "# for alg in algorithms:\n",
    "#     alg.fit(train.date, train.price)\n",
    "#     print(alg.score(test.date, test.price))\n",
    "#     print(cross_val_score(alg, ram_prices.date, ram_prices.price, cv=10, scoring=\"r2\").mean())\n",
    "   "
   ]
  },
  {
   "cell_type": "markdown",
   "metadata": {
    "deletable": true,
    "editable": true
   },
   "source": [
    "## A mini-data mining challenge (2 points (+1))"
   ]
  },
  {
   "cell_type": "markdown",
   "metadata": {
    "deletable": true,
    "editable": true
   },
   "source": [
    "The goal here is to use everything you have learned to build the best model for a given classification task. The task is hosted on OpenML, so you will receive the train-test splits, and your model will be evaluated on the server. The goal is to reasonably select algorithms and hyperparameter settings to obtain the best model. You can also do model selection and parameter optimization as you have done before. Skeleton code is provided in the OpenML tutorial.\n",
    "\n",
    "- All details can be found online:\n",
    "    - The OpenML Task ID is 145677: https://www.openml.org/t/145677\n",
    "    - The dataset description can be found here: https://www.openml.org/d/4134\n",
    "- A leaderboard is kept of the best models: https://www.openml.org/t/145677#!people\n",
    "    - You are able to see the solutions of others (by clicking in the timeline or run list), but resubmission of the exact same solution does not register on the leaderboard.\n",
    "    - You can share one account (one API key) per team. In case you use two, we take the one that performs best.\n",
    "- You can document the different experiments that you ran in this notebook. For each experiment, provide a description of how you chose the algorithms and parameters that you submitted. Try to reason about which experiments to try, don't just do an immense random search.\n",
    "- Points are rewarded as follows:\n",
    "    - 1 point for the breadth of experiments you ran (algorithms, hyperparameter settings)\n",
    "    - 1 point for reasoning/insight and interpretation of the results\n",
    "    - 1 (bonus) point for every team who has uploaded the best solution thus far **on AUC** (who reaches the top of the leaderboard at any moment during the assignment)\n",
    "        - Note: On the leaderboard page, the 'frontier' line is drawn, and your top ranking is also shown in the table.\n",
    "        \n",
    "Note: Report AUC scores in your report as well. In case of issues with OpenML we will use the experiments and scores mentioned your report."
   ]
  },
  {
   "cell_type": "code",
   "execution_count": 7,
   "metadata": {
    "collapsed": false,
    "deletable": true,
    "editable": true
   },
   "outputs": [],
   "source": [
    "import openml as oml\n",
    "\n",
    "# Load task data\n",
    "task = oml.tasks.get_task(145677)\n",
    "data = oml.datasets.get_dataset(task.dataset_id)\n",
    "X, y = data.get_data(target=data.default_target_attribute)"
   ]
  },
  {
   "cell_type": "markdown",
   "metadata": {
    "deletable": true,
    "editable": true
   },
   "source": [
    "We have lots of features (1777) Hence, we should either figure something out to reduce the amount features, or use a classifier which handles a lot of features well. Initially, our thoughts fell on using a random forest classifier without selecting features (this is what the decision trees do themselves anyhow)."
   ]
  },
  {
   "cell_type": "code",
   "execution_count": 18,
   "metadata": {
    "collapsed": false,
    "deletable": true,
    "editable": true
   },
   "outputs": [
    {
     "name": "stdout",
     "output_type": "stream",
     "text": [
      "Running..\n",
      "Publishing run\n",
      "RF on Bioresponse: http://www.openml.org/r/1849099\n"
     ]
    }
   ],
   "source": [
    "from sklearn.linear_model import LogisticRegression\n",
    "from sklearn.ensemble import RandomForestClassifier\n",
    "from sklearn.feature_selection import SelectPercentile, SelectFromModel, RFE\n",
    "\n",
    "from sklearn.pipeline import Pipeline\n",
    "from sklearn.model_selection import GridSearchCV\n",
    "\n",
    "# We don't need a scalar since the dataset is already normalized\n",
    "\n",
    "# Create classifier\n",
    "clf = RandomForestClassifier(random_state=1, n_estimators=2048, min_samples_split=4, criterion=\"entropy\", n_jobs=-1)\n",
    "\n",
    "# Build pipeline\n",
    "pipe = Pipeline([\n",
    "    ('classifier', clf)\n",
    "])\n",
    "\n",
    "task = oml.tasks.get_task(145677)\n",
    "print(\"Running..\")\n",
    "run = oml.runs.run_task(task, pipe)\n",
    "print(\"Publishing run\")\n",
    "myrun = run.publish()\n",
    "print(\"RF on %s: http://www.openml.org/r/%d\" % (data.name, myrun.run_id))"
   ]
  },
  {
   "cell_type": "markdown",
   "metadata": {
    "deletable": true,
    "editable": true
   },
   "source": [
    "This result was decent, but we did not find any way to significantly improve this. Hence, we now attempted to use logistic regression. But we still wanted to keep the performance from the RandomForest classifier. Hence we used this as the feature selector before we ran the LogisticRegression."
   ]
  },
  {
   "cell_type": "code",
   "execution_count": 25,
   "metadata": {
    "collapsed": false,
    "deletable": true,
    "editable": true
   },
   "outputs": [
    {
     "name": "stdout",
     "output_type": "stream",
     "text": [
      "Fitting 10 folds for each of 75 candidates, totalling 750 fits\n"
     ]
    },
    {
     "name": "stderr",
     "output_type": "stream",
     "text": [
      "[Parallel(n_jobs=-1)]: Done  34 tasks      | elapsed:  1.1min\n",
      "[Parallel(n_jobs=-1)]: Done 184 tasks      | elapsed:  5.2min\n",
      "[Parallel(n_jobs=-1)]: Done 434 tasks      | elapsed: 12.0min\n",
      "[Parallel(n_jobs=-1)]: Done 750 out of 750 | elapsed: 43.9min finished\n"
     ]
    },
    {
     "name": "stdout",
     "output_type": "stream",
     "text": [
      "0.859742509623\n",
      "{'classifier__gamma': 0.01, 'classifier__C': 10, 'classifier__kernel': 'rbf'}\n"
     ]
    }
   ],
   "source": [
    "from sklearn.svm import SVC\n",
    "\n",
    "# Create feature selector \n",
    "fs = SelectFromModel(RandomForestClassifier(random_state=1, criterion=\"entropy\"))\n",
    "\n",
    "# Create default classifier\n",
    "clf = SVC()\n",
    "\n",
    "pipe = Pipeline([\n",
    "    ('feature_select', fs),\n",
    "    ('classifier', clf)\n",
    "])\n",
    "\n",
    "grid = {\n",
    "    \"classifier__C\": [0.01, 0.1, 1, 10, 100],\n",
    "    \"classifier__kernel\": [\"linear\", \"poly\", \"rbf\"],\n",
    "    \"classifier__gamma\": [0.01, 0.1, 1, 10, 100]\n",
    "}\n",
    "gs = GridSearchCV(pipe, grid, cv=10, n_jobs=-1, scoring=\"roc_auc\", verbose=1)\n",
    "gs.fit(X, y)\n",
    "\n",
    "print(gs.best_score_)     \n",
    "print(gs.best_params_)"
   ]
  },
  {
   "cell_type": "markdown",
   "metadata": {
    "deletable": true,
    "editable": true
   },
   "source": [
    "The results from this classification where significantly higher then we expected.\n",
    "Therefore we attempted to improve the best results further by increasing the number of estimators of the random forest classifier. And to optimize only the rbf kernel further."
   ]
  },
  {
   "cell_type": "code",
   "execution_count": 34,
   "metadata": {
    "collapsed": false,
    "deletable": true,
    "editable": true
   },
   "outputs": [
    {
     "name": "stdout",
     "output_type": "stream",
     "text": [
      "Running..\n",
      "Publishing run\n",
      "RF on Bioresponse: http://www.openml.org/r/1849100\n"
     ]
    }
   ],
   "source": [
    "# Create feature selector \n",
    "fs = SelectFromModel(RandomForestClassifier(random_state=1, n_estimators=256, criterion=\"entropy\"))\n",
    "\n",
    "# Create default classifier\n",
    "clf = SVC(kernel=\"rbf\", C=10, gamma=0.01)\n",
    "\n",
    "pipe = Pipeline([\n",
    "    ('feature_select', fs),\n",
    "    ('classifier', clf)\n",
    "])\n",
    "\n",
    "task = oml.tasks.get_task(145677)\n",
    "print(\"Running..\")\n",
    "run = oml.runs.run_task(task, pipe)\n",
    "print(\"Publishing run\")\n",
    "myrun = run.publish()\n",
    "print(\"SVM on %s: http://www.openml.org/r/%d\" % (data.name, myrun.run_id))"
   ]
  },
  {
   "cell_type": "code",
   "execution_count": null,
   "metadata": {
    "collapsed": true,
    "deletable": true,
    "editable": true
   },
   "outputs": [],
   "source": []
  }
 ],
 "metadata": {
  "anaconda-cloud": {},
  "kernelspec": {
   "display_name": "Python 3",
   "language": "python",
   "name": "python3"
  },
  "language_info": {
   "codemirror_mode": {
    "name": "ipython",
    "version": 3
   },
   "file_extension": ".py",
   "mimetype": "text/x-python",
   "name": "python",
   "nbconvert_exporter": "python",
   "pygments_lexer": "ipython3",
   "version": "3.5.1"
  }
 },
 "nbformat": 4,
 "nbformat_minor": 2
}
